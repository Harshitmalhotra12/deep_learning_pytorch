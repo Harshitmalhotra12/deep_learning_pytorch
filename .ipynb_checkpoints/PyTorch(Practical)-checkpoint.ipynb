{
 "cells": [
  {
   "cell_type": "markdown",
   "metadata": {},
   "source": [
    "## Tensor "
   ]
  },
  {
   "cell_type": "code",
   "execution_count": 18,
   "metadata": {},
   "outputs": [],
   "source": [
    "import torch\n",
    "import numpy as np"
   ]
  },
  {
   "cell_type": "markdown",
   "metadata": {},
   "source": [
    "### Define Tensor\n",
    "    - Fundamental Data Structure of PyTorch\n",
    "    - Multi-dimensional Array"
   ]
  },
  {
   "cell_type": "code",
   "execution_count": 11,
   "metadata": {},
   "outputs": [
    {
     "name": "stdout",
     "output_type": "stream",
     "text": [
      "tensor([[0.6536, 0.6565, 0.9210, 0.9489],\n",
      "        [0.2820, 0.2551, 0.0237, 0.4280],\n",
      "        [0.4816, 0.0517, 0.8189, 0.6261],\n",
      "        [0.2070, 0.1897, 0.2441, 0.1901],\n",
      "        [0.6297, 0.0232, 0.7509, 0.8834],\n",
      "        [0.8722, 0.9425, 0.4900, 0.6584]])\n"
     ]
    }
   ],
   "source": [
    "x = torch.rand(6, 4)\n",
    "print(x)\n",
    "\n",
    "# x = torch.zeros(6, 4, dtype=torch.long)\n",
    "# print(x)\n",
    "\n",
    "# x = torch.tensor([6.4, 4.6])\n",
    "# print(x)"
   ]
  },
  {
   "cell_type": "code",
   "execution_count": 22,
   "metadata": {
    "collapsed": true
   },
   "outputs": [
    {
     "name": "stdout",
     "output_type": "stream",
     "text": [
      "torch.Size([6, 4]) torch.Size([6, 4]) torch.float32\n"
     ]
    }
   ],
   "source": [
    "# Get size and datatype of tensor\n",
    "\n",
    "print(x.size(), x.shape, x.dtype)\n"
   ]
  },
  {
   "cell_type": "markdown",
   "metadata": {},
   "source": [
    "### Operations on PyTorch"
   ]
  },
  {
   "cell_type": "code",
   "execution_count": 15,
   "metadata": {
    "collapsed": true
   },
   "outputs": [
    {
     "name": "stdout",
     "output_type": "stream",
     "text": [
      "tensor([[0.7627, 1.0818, 1.2491, 1.5530],\n",
      "        [0.7561, 1.2080, 0.1277, 0.8303],\n",
      "        [1.4570, 0.4691, 1.5582, 1.2593],\n",
      "        [0.6012, 0.6207, 1.1975, 0.8940],\n",
      "        [0.7153, 0.5128, 1.6250, 1.7172],\n",
      "        [1.0288, 1.8894, 0.7682, 0.8825]])\n"
     ]
    }
   ],
   "source": [
    "y = torch.rand(6, 4)\n",
    "# print(x + y)\n",
    "\n",
    "# print(torch.add(x, y))\n",
    "\n",
    "# result = torch.empty(6, 4)\n",
    "# torch.add(x, y, out=result)\n",
    "# print(result)\n",
    "\n",
    "# y.add_(x)\n",
    "# print(y)\n",
    "\n"
   ]
  },
  {
   "cell_type": "markdown",
   "metadata": {},
   "source": [
    "### NumPy and PyTorch\n"
   ]
  },
  {
   "cell_type": "code",
   "execution_count": 20,
   "metadata": {
    "collapsed": true
   },
   "outputs": [
    {
     "name": "stdout",
     "output_type": "stream",
     "text": [
      "tensor([1., 1., 1., 1., 1.])\n"
     ]
    }
   ],
   "source": [
    "a = torch.ones(5)\n",
    "print(a)\n",
    "\n",
    "# b = a.numpy()\n",
    "# print(b)\n",
    "\n",
    "# a = np.ones(5)\n",
    "# b = torch.from_numpy(a)\n",
    "# np.add(a, 1, out=a)\n",
    "# print(a)\n",
    "# print(b)"
   ]
  },
  {
   "cell_type": "markdown",
   "metadata": {},
   "source": [
    "### CUDA Tensors"
   ]
  },
  {
   "cell_type": "code",
   "execution_count": 21,
   "metadata": {
    "collapsed": true
   },
   "outputs": [
    {
     "name": "stdout",
     "output_type": "stream",
     "text": [
      "tensor([[1.6536, 1.6565, 1.9210, 1.9489],\n",
      "        [1.2820, 1.2551, 1.0237, 1.4280],\n",
      "        [1.4816, 1.0517, 1.8189, 1.6261],\n",
      "        [1.2070, 1.1897, 1.2441, 1.1901],\n",
      "        [1.6297, 1.0232, 1.7509, 1.8834],\n",
      "        [1.8722, 1.9425, 1.4900, 1.6584]], device='cuda:0')\n",
      "tensor([[1.6536, 1.6565, 1.9210, 1.9489],\n",
      "        [1.2820, 1.2551, 1.0237, 1.4280],\n",
      "        [1.4816, 1.0517, 1.8189, 1.6261],\n",
      "        [1.2070, 1.1897, 1.2441, 1.1901],\n",
      "        [1.6297, 1.0232, 1.7509, 1.8834],\n",
      "        [1.8722, 1.9425, 1.4900, 1.6584]], dtype=torch.float64)\n"
     ]
    }
   ],
   "source": [
    "if torch.cuda.is_available():\n",
    "    device = torch.device(\"cuda\")          # a CUDA device object\n",
    "    y = torch.ones_like(x, device=device)  # directly create a tensor on GPU\n",
    "    x = x.to(device)                       # or just use strings ``.to(\"cuda\")``\n",
    "    z = x + y\n",
    "    print(z)\n",
    "    print(z.to(\"cpu\", torch.double))       # ``.to`` can also change dtype together!"
   ]
  },
  {
   "cell_type": "code",
   "execution_count": null,
   "metadata": {},
   "outputs": [],
   "source": []
  },
  {
   "cell_type": "code",
   "execution_count": null,
   "metadata": {},
   "outputs": [],
   "source": []
  },
  {
   "cell_type": "markdown",
   "metadata": {},
   "source": [
    "# AUTOGRAD: Automatic Differentiation"
   ]
  },
  {
   "cell_type": "code",
   "execution_count": 56,
   "metadata": {},
   "outputs": [
    {
     "name": "stdout",
     "output_type": "stream",
     "text": [
      "tensor([[1., 1.],\n",
      "        [1., 1.]], requires_grad=True)\n"
     ]
    }
   ],
   "source": [
    "x = torch.ones(2, 2, requires_grad=True)\n",
    "print(x)"
   ]
  },
  {
   "cell_type": "code",
   "execution_count": 50,
   "metadata": {},
   "outputs": [
    {
     "name": "stdout",
     "output_type": "stream",
     "text": [
      "tensor([[3., 3.],\n",
      "        [3., 3.]], grad_fn=<AddBackward0>)\n"
     ]
    }
   ],
   "source": [
    "y = x + 2\n",
    "print(y)"
   ]
  },
  {
   "cell_type": "code",
   "execution_count": 51,
   "metadata": {},
   "outputs": [
    {
     "name": "stdout",
     "output_type": "stream",
     "text": [
      "tensor([[27., 27.],\n",
      "        [27., 27.]], grad_fn=<MulBackward0>) tensor(27., grad_fn=<MeanBackward0>)\n"
     ]
    }
   ],
   "source": [
    "z = y * y * 3\n",
    "out = z.mean()\n",
    "\n",
    "print(z, out)"
   ]
  },
  {
   "cell_type": "code",
   "execution_count": 29,
   "metadata": {},
   "outputs": [
    {
     "name": "stdout",
     "output_type": "stream",
     "text": [
      "False\n",
      "True\n",
      "<SumBackward0 object at 0x7f5c741fb748>\n"
     ]
    }
   ],
   "source": [
    "a = torch.randn(2, 2)\n",
    "a = ((a * 3) / (a - 1))\n",
    "print(a.requires_grad)\n",
    "a.requires_grad_(True)\n",
    "print(a.requires_grad)\n",
    "b = (a * a).sum()\n",
    "print(b.grad_fn)"
   ]
  },
  {
   "cell_type": "code",
   "execution_count": 52,
   "metadata": {
    "collapsed": true
   },
   "outputs": [
    {
     "name": "stdout",
     "output_type": "stream",
     "text": [
      "tensor([[4.5000, 4.5000],\n",
      "        [4.5000, 4.5000]])\n"
     ]
    }
   ],
   "source": [
    "out.backward()\n",
    "# out.backward(retain_graph=True)\n",
    "print(x.grad)"
   ]
  },
  {
   "cell_type": "code",
   "execution_count": 59,
   "metadata": {
    "collapsed": true
   },
   "outputs": [
    {
     "name": "stdout",
     "output_type": "stream",
     "text": [
      "True\n",
      "True\n",
      "False\n"
     ]
    }
   ],
   "source": [
    "print(x.requires_grad)\n",
    "print((x**2).requires_grad)\n",
    "with torch.no_grad():\n",
    "    print((x**2).requires_grad)"
   ]
  },
  {
   "cell_type": "markdown",
   "metadata": {},
   "source": [
    "![Gradient Computation](img/gradient.jpg)"
   ]
  },
  {
   "cell_type": "markdown",
   "metadata": {},
   "source": [
    "    - with .requires_grad as True, it starts to track all operations on it and to stop tracking value can be set to False\n",
    "    - to remove tensor from computational graph x.detach() can also be used.\n",
    "    - torch.no_grad() will stop autograd engine to stop calculating gradients or backward pass.\n",
    "    "
   ]
  },
  {
   "cell_type": "code",
   "execution_count": null,
   "metadata": {},
   "outputs": [],
   "source": []
  }
 ],
 "metadata": {
  "kernelspec": {
   "display_name": "Python 3",
   "language": "python",
   "name": "python3"
  },
  "language_info": {
   "codemirror_mode": {
    "name": "ipython",
    "version": 3
   },
   "file_extension": ".py",
   "mimetype": "text/x-python",
   "name": "python",
   "nbconvert_exporter": "python",
   "pygments_lexer": "ipython3",
   "version": "3.6.8"
  }
 },
 "nbformat": 4,
 "nbformat_minor": 2
}
